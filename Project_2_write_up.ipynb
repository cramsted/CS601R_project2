{
 "cells": [
  {
   "cell_type": "code",
   "execution_count": 1,
   "metadata": {
    "collapsed": true
   },
   "outputs": [],
   "source": [
    "%matplotlib inline\n",
    "\n",
    "TRAIN_DATA = \"../mscoco_subset_cs601r/train/\"\n",
    "TRAIN_DATA_LABEL = \"../mscoco_subset_cs601r/train_masks/\"\n",
    "TEST_DATA = \"../mscoco_subset_cs601r/test/\"\n",
    "TEST_DATA_LABEL = \"../mscoco_subset_cs601r/test_masks/\""
   ]
  },
  {
   "cell_type": "code",
   "execution_count": 2,
   "metadata": {
    "collapsed": true
   },
   "outputs": [],
   "source": [
    "import torch.nn as nn\n",
    "import torchvision.models as models\n",
    "from Data import Data\n",
    "import torch\n",
    "from torch.utils.data import DataLoader\n",
    "import torch.optim as optim\n",
    "import time\n",
    "import pickle\n",
    "import numpy as np\n",
    "from SegNet import SegNet"
   ]
  },
  {
   "cell_type": "code",
   "execution_count": null,
   "metadata": {
    "collapsed": true
   },
   "outputs": [],
   "source": [
    "device = torch.device(\"cuda:0\" if torch.cuda.is_available() else \"cpu\")\n",
    "print(device)\n",
    "seg = SegNet()\n",
    "seg.to(device)\n",
    "try:\n",
    "    seg.load_state_dict(torch.load('model.json'))\n",
    "except:\n",
    "    pass\n",
    "dataset = Data(TRAIN_DATA, TRAIN_DATA_LABEL)\n",
    "loader = DataLoader(dataset, batch_size=22, shuffle=True, num_workers=10)\n",
    "\n",
    "criterion = nn.CrossEntropyLoss()\n",
    "# optimizer = optim.SGD(seg.parameters(), lr=5e-4, momentum=0.9)\n",
    "optimizer = optim.Adam(seg.parameters(), lr=5e-4)\n",
    "try:\n",
    "    with open('running_loss.pkl', 'rb') as f:\n",
    "        running_loss = pickle.load(f)\n",
    "except:\n",
    "    running_loss = []\n",
    "\n",
    "very_start = time.time()\n",
    "for epoch in range(1, 4):\n",
    "    start = time.time()\n",
    "    epoch_loss = []\n",
    "    for i, data in enumerate(loader, 0):\n",
    "        images, labels = data[0].to(device), data[1].to(device)\n",
    "        images = images.type(torch.FloatTensor).cuda()\n",
    "        labels = labels.type(torch.LongTensor).cuda()\n",
    "        # zero the parameter gradients\n",
    "        optimizer.zero_grad()\n",
    "\n",
    "        # forward + backward + optimize\n",
    "        outputs = seg(images)\n",
    "        loss = criterion(outputs, labels)\n",
    "        loss.backward()\n",
    "        optimizer.step()\n",
    "\n",
    "        # print statistics\n",
    "        loss_val = loss.item()\n",
    "        # print(i, \":\", loss_val)\n",
    "        epoch_loss.append(loss_val)\n",
    "\n",
    "    print('[Epoch:', epoch, '] [Time:',\n",
    "          (time.time()-start)/60, \" minutes] [Average loss:\", np.average(epoch_loss), \"]\")\n",
    "    running_loss += epoch_loss\n",
    "    torch.save(seg.state_dict(), 'model.json')\n",
    "    with open('running_loss.pkl', 'wb') as f:\n",
    "        pickle.dump(running_loss, f)\n",
    "print('Finished Training in ', (time.time()-very_start)/60, \" minutes\")\n",
    "print(\"length of loss array: \", len(running_loss))"
   ]
  }
 ],
 "metadata": {
  "kernelspec": {
   "display_name": "Python 3",
   "language": "python",
   "name": "python3"
  },
  "language_info": {
   "codemirror_mode": {
    "name": "ipython",
    "version": 3
   },
   "file_extension": ".py",
   "mimetype": "text/x-python",
   "name": "python",
   "nbconvert_exporter": "python",
   "pygments_lexer": "ipython3",
   "version": "3.6.3"
  }
 },
 "nbformat": 4,
 "nbformat_minor": 2
}
