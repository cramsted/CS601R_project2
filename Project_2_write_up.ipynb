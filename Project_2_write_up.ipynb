{
 "cells": [
  {
   "cell_type": "markdown",
   "metadata": {},
   "source": [
    "# Project 2 Write Up\n",
    "\n",
    "  Image Segmentation  \n",
    "  CS601R Spring Semester  \n",
    "  Written by Clayton Ramstedt  \n",
    "\n",
    "## 1.1 Model\n",
    "\n",
    "Throughout the project I used resnet50 as a base with five deconvolution layers replacing the final resnet layer. The configuration of these layers can be seen below:\n",
    "```python\n",
    "self.deconv1 = nn.ConvTranspose2d(2048, 512, 3, stride=2, padding=1, output_padding=1)\n",
    "self.deconv2 = nn.ConvTranspose2d(512, 128, 4, stride=2, padding=1, output_padding=1)\n",
    "self.deconv3 = nn.ConvTranspose2d(128, 64, 5, stride=2, padding=2, output_padding=1)\n",
    "self.deconv4 = nn.ConvTranspose2d(64, 32, 4, stride=2, padding=3, output_padding=1)\n",
    "self.deconv5 = nn.ConvTranspose2d(32, 7, 4, stride=2, padding=2, output_padding=1)\n",
    "nn.init.xavier_uniform_(self.deconv1.weight)\n",
    "nn.init.xavier_uniform_(self.deconv2.weight)\n",
    "nn.init.xavier_uniform_(self.deconv3.weight)\n",
    "nn.init.xavier_uniform_(self.deconv4.weight)\n",
    "nn.init.xavier_uniform_(self.deconv5.weight)\n",
    "self.deconvRelu1 = nn.LeakyReLU()\n",
    "self.deconvRelu2 = nn.LeakyReLU()\n",
    "self.deconvRelu3 = nn.LeakyReLU()\n",
    "self.deconvRelu4 = nn.LeakyReLU()\n",
    "self.deconvRelu5 = nn.LeakyReLU()\n",
    "```\n",
    "The purpose of this model was to be able to take in a 224x224 image and output a segmentation map for each pixel. Because I had no prior experience with convolutional networks, getting the dimensions right on the deconvolution layers was a trial in and of itself. And so once I got a working model, I stopped playing with. However, if I were to revisit this, I would like to experiment with the kernel sizes.\n",
    "\n",
    "The only change I made to the model after version one, was to change the `ReLU()` to the `LeakyReLU()` based on a suggestion given in the class Slack. Unfortunately when I trained the new model, I had also made changes to how the dataset was being generated, so I am unsure what impact, if any, this change had.\n",
    "\n",
    "*For more information on the complete model, see `SegNet.py`*\n",
    "\n",
    "## 1.2 Dataset\n",
    "\n",
    "Over the course of the project, the way that the dataset was interpreted evolved the most, and is primarily responsible for any performance gains I had. Because I had no idea what I was doing, the original implementation used a naive rescaling of all images to 224x224. I trained a single model only on this type of data and obtained an average IOU score across all the classes of `0.55`. It wasn't great, but it was a good starting point!\n",
    "\n",
    "Version two first checked to see if "
   ]
  },
  {
   "cell_type": "code",
   "execution_count": null,
   "metadata": {
    "collapsed": true
   },
   "outputs": [],
   "source": []
  },
  {
   "cell_type": "code",
   "execution_count": 1,
   "metadata": {
    "collapsed": true
   },
   "outputs": [],
   "source": [
    "%matplotlib inline\n",
    "\n",
    "TRAIN_DATA = \"../mscoco_subset_cs601r/train/\"\n",
    "TRAIN_DATA_LABEL = \"../mscoco_subset_cs601r/train_masks/\"\n",
    "TEST_DATA = \"../mscoco_subset_cs601r/test/\"\n",
    "TEST_DATA_LABEL = \"../mscoco_subset_cs601r/test_masks/\""
   ]
  },
  {
   "cell_type": "code",
   "execution_count": 2,
   "metadata": {
    "collapsed": true
   },
   "outputs": [],
   "source": [
    "import torch.nn as nn\n",
    "import torchvision.models as models\n",
    "from Data import Data\n",
    "import torch\n",
    "from torch.utils.data import DataLoader\n",
    "import torch.optim as optim\n",
    "import time\n",
    "import pickle\n",
    "import numpy as np\n",
    "from SegNet import SegNet\n",
    "from sklearn.metrics import confusion_matrix\n",
    "import matplotlib.pyplot as plt\n",
    "import cv2"
   ]
  },
  {
   "cell_type": "code",
   "execution_count": null,
   "metadata": {
    "collapsed": true
   },
   "outputs": [],
   "source": []
  }
 ],
 "metadata": {
  "kernelspec": {
   "display_name": "Python 3",
   "language": "python",
   "name": "python3"
  },
  "language_info": {
   "codemirror_mode": {
    "name": "ipython",
    "version": 3
   },
   "file_extension": ".py",
   "mimetype": "text/x-python",
   "name": "python",
   "nbconvert_exporter": "python",
   "pygments_lexer": "ipython3",
   "version": "3.6.3"
  }
 },
 "nbformat": 4,
 "nbformat_minor": 2
}
